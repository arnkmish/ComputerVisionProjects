{
  "nbformat": 4,
  "nbformat_minor": 0,
  "metadata": {
    "colab": {
      "provenance": [],
      "gpuType": "T4"
    },
    "kernelspec": {
      "name": "python3",
      "display_name": "Python 3"
    },
    "language_info": {
      "name": "python"
    },
    "accelerator": "GPU"
  },
  "cells": [
    {
      "cell_type": "code",
      "execution_count": 1,
      "metadata": {
        "colab": {
          "base_uri": "https://localhost:8080/"
        },
        "id": "erhZv7JgvX8R",
        "outputId": "b1f90807-8617-418c-e0aa-5e99f0d33dbf"
      },
      "outputs": [
        {
          "output_type": "stream",
          "name": "stdout",
          "text": [
            "Downloading http://yann.lecun.com/exdb/mnist/train-images-idx3-ubyte.gz\n",
            "Failed to download (trying next):\n",
            "HTTP Error 403: Forbidden\n",
            "\n",
            "Downloading https://ossci-datasets.s3.amazonaws.com/mnist/train-images-idx3-ubyte.gz\n",
            "Downloading https://ossci-datasets.s3.amazonaws.com/mnist/train-images-idx3-ubyte.gz to ./data/MNIST/raw/train-images-idx3-ubyte.gz\n"
          ]
        },
        {
          "output_type": "stream",
          "name": "stderr",
          "text": [
            "100%|██████████| 9912422/9912422 [00:02<00:00, 4585884.48it/s]\n"
          ]
        },
        {
          "output_type": "stream",
          "name": "stdout",
          "text": [
            "Extracting ./data/MNIST/raw/train-images-idx3-ubyte.gz to ./data/MNIST/raw\n",
            "\n",
            "Downloading http://yann.lecun.com/exdb/mnist/train-labels-idx1-ubyte.gz\n",
            "Failed to download (trying next):\n",
            "HTTP Error 403: Forbidden\n",
            "\n",
            "Downloading https://ossci-datasets.s3.amazonaws.com/mnist/train-labels-idx1-ubyte.gz\n",
            "Downloading https://ossci-datasets.s3.amazonaws.com/mnist/train-labels-idx1-ubyte.gz to ./data/MNIST/raw/train-labels-idx1-ubyte.gz\n"
          ]
        },
        {
          "output_type": "stream",
          "name": "stderr",
          "text": [
            "100%|██████████| 28881/28881 [00:00<00:00, 58329.15it/s]\n"
          ]
        },
        {
          "output_type": "stream",
          "name": "stdout",
          "text": [
            "Extracting ./data/MNIST/raw/train-labels-idx1-ubyte.gz to ./data/MNIST/raw\n",
            "\n",
            "Downloading http://yann.lecun.com/exdb/mnist/t10k-images-idx3-ubyte.gz\n",
            "Failed to download (trying next):\n",
            "HTTP Error 403: Forbidden\n",
            "\n",
            "Downloading https://ossci-datasets.s3.amazonaws.com/mnist/t10k-images-idx3-ubyte.gz\n",
            "Downloading https://ossci-datasets.s3.amazonaws.com/mnist/t10k-images-idx3-ubyte.gz to ./data/MNIST/raw/t10k-images-idx3-ubyte.gz\n"
          ]
        },
        {
          "output_type": "stream",
          "name": "stderr",
          "text": [
            "100%|██████████| 1648877/1648877 [00:03<00:00, 450528.00it/s]\n"
          ]
        },
        {
          "output_type": "stream",
          "name": "stdout",
          "text": [
            "Extracting ./data/MNIST/raw/t10k-images-idx3-ubyte.gz to ./data/MNIST/raw\n",
            "\n",
            "Downloading http://yann.lecun.com/exdb/mnist/t10k-labels-idx1-ubyte.gz\n",
            "Failed to download (trying next):\n",
            "HTTP Error 403: Forbidden\n",
            "\n",
            "Downloading https://ossci-datasets.s3.amazonaws.com/mnist/t10k-labels-idx1-ubyte.gz\n",
            "Downloading https://ossci-datasets.s3.amazonaws.com/mnist/t10k-labels-idx1-ubyte.gz to ./data/MNIST/raw/t10k-labels-idx1-ubyte.gz\n"
          ]
        },
        {
          "output_type": "stream",
          "name": "stderr",
          "text": [
            "100%|██████████| 4542/4542 [00:00<00:00, 9220972.30it/s]"
          ]
        },
        {
          "output_type": "stream",
          "name": "stdout",
          "text": [
            "Extracting ./data/MNIST/raw/t10k-labels-idx1-ubyte.gz to ./data/MNIST/raw\n",
            "\n"
          ]
        },
        {
          "output_type": "stream",
          "name": "stderr",
          "text": [
            "\n"
          ]
        }
      ],
      "source": [
        "import torch\n",
        "import torch.nn as nn\n",
        "import torch.optim as optim\n",
        "from torchvision import datasets, transforms\n",
        "from torch.utils.data import DataLoader\n",
        "import matplotlib.pyplot as plt\n",
        "\n",
        "# Load and prepare the MNIST dataset\n",
        "transform = transforms.ToTensor()\n",
        "trainset = datasets.MNIST(root='./data', train=True, download=True, transform=transform)\n",
        "trainloader = DataLoader(trainset, batch_size=64, shuffle=True)\n",
        "\n",
        "testset = datasets.MNIST(root='./data', train=False, download=True, transform=transform)\n",
        "testloader = DataLoader(testset, batch_size=64, shuffle=False)"
      ]
    },
    {
      "cell_type": "code",
      "source": [
        "# Define the Convolutional Variational Autoencoder model\n",
        "class ConvVAE(nn.Module):\n",
        "    def __init__(self):\n",
        "        super(ConvVAE, self).__init__()\n",
        "        # Encoder\n",
        "        self.encoder = nn.Sequential(\n",
        "            nn.Conv2d(1, 32, kernel_size=3, stride=1, padding=1),  # [32, 28, 28]\n",
        "            nn.ReLU(True),\n",
        "            nn.MaxPool2d(2, 2),  # [32, 14, 14]\n",
        "            nn.Conv2d(32, 64, kernel_size=3, stride=1, padding=1),  # [64, 14, 14]\n",
        "            nn.ReLU(True),\n",
        "            nn.MaxPool2d(2, 2),  # [64, 7, 7]\n",
        "            nn.Conv2d(64, 128, kernel_size=3, stride=1, padding=1),  # [128, 7, 7]\n",
        "            nn.ReLU(True)\n",
        "        )\n",
        "        self.fc_mu = nn.Linear(128 * 7 * 7, 32)\n",
        "        self.fc_logvar = nn.Linear(128 * 7 * 7, 32)\n",
        "        self.fc_decode = nn.Linear(32, 128 * 7 * 7)\n",
        "\n",
        "        # Decoder\n",
        "        self.decoder = nn.Sequential(\n",
        "            nn.Upsample(scale_factor=2, mode='nearest'),  # [128, 14, 14]\n",
        "            nn.Conv2d(128, 64, kernel_size=3, stride=1, padding=1),  # [64, 14, 14]\n",
        "            nn.ReLU(True),\n",
        "            nn.Upsample(scale_factor=2, mode='nearest'),  # [64, 28, 28]\n",
        "            nn.Conv2d(64, 32, kernel_size=3, stride=1, padding=1),  # [32, 28, 28]\n",
        "            nn.ReLU(True),\n",
        "            nn.Conv2d(32, 1, kernel_size=3, stride=1, padding=1),  # [1, 28, 28]\n",
        "            nn.Sigmoid()\n",
        "        )\n",
        "\n",
        "    def encode(self, x):\n",
        "        h = self.encoder(x)\n",
        "        h = h.view(h.size(0), -1)\n",
        "        mu = self.fc_mu(h)\n",
        "        logvar = self.fc_logvar(h)\n",
        "        return mu, logvar\n",
        "\n",
        "    def reparameterize(self, mu, logvar):\n",
        "        std = torch.exp(0.5 * logvar)\n",
        "        eps = torch.randn_like(std)\n",
        "        return mu + eps * std\n",
        "\n",
        "    def decode(self, z):\n",
        "        h = self.fc_decode(z)\n",
        "        h = h.view(h.size(0), 128, 7, 7)\n",
        "        return self.decoder(h)\n",
        "\n",
        "    def forward(self, x):\n",
        "        mu, logvar = self.encode(x)\n",
        "        z = self.reparameterize(mu, logvar)\n",
        "        return self.decode(z), mu, logvar"
      ],
      "metadata": {
        "id": "uqeMrDHxvhun"
      },
      "execution_count": 20,
      "outputs": []
    },
    {
      "cell_type": "code",
      "source": [
        "# Instantiate the model, define the loss function and the optimizer\n",
        "model = ConvVAE()\n",
        "optimizer = optim.Adam(model.parameters(), lr=0.001)\n",
        "\n",
        "# Define the loss function\n",
        "def loss_function(recon_x, x, mu, logvar):\n",
        "    BCE = nn.functional.binary_cross_entropy(recon_x, x, reduction='sum')\n",
        "    KLD = -0.5 * torch.sum(1 + logvar - mu.pow(2) - logvar.exp())\n",
        "    return BCE + KLD\n",
        "\n",
        "# Training the VAE\n",
        "num_epochs = 20\n",
        "for epoch in range(num_epochs):\n",
        "    model.train()\n",
        "    train_loss = 0\n",
        "    for data in trainloader:\n",
        "        inputs, _ = data\n",
        "        inputs = inputs.view(-1, 1, 28, 28)\n",
        "        outputs, mu, logvar = model(inputs)\n",
        "        loss = loss_function(outputs, inputs, mu, logvar)\n",
        "\n",
        "        optimizer.zero_grad()\n",
        "        loss.backward()\n",
        "        train_loss += loss.item()\n",
        "        optimizer.step()\n",
        "\n",
        "    print(f'Epoch [{epoch + 1}/{num_epochs}], Loss: {train_loss / len(trainloader.dataset):.4f}')"
      ],
      "metadata": {
        "colab": {
          "base_uri": "https://localhost:8080/"
        },
        "id": "XSc44576vkSs",
        "outputId": "fe62dace-5cdf-4f98-d4cc-47dd1068e9fe"
      },
      "execution_count": 21,
      "outputs": [
        {
          "output_type": "stream",
          "name": "stdout",
          "text": [
            "Epoch [1/20], Loss: 130.7870\n",
            "Epoch [2/20], Loss: 105.3862\n",
            "Epoch [3/20], Loss: 102.9084\n",
            "Epoch [4/20], Loss: 101.6441\n",
            "Epoch [5/20], Loss: 100.7743\n",
            "Epoch [6/20], Loss: 100.1145\n",
            "Epoch [7/20], Loss: 99.5484\n",
            "Epoch [8/20], Loss: 99.0708\n",
            "Epoch [9/20], Loss: 98.6907\n",
            "Epoch [10/20], Loss: 98.2918\n",
            "Epoch [11/20], Loss: 98.0244\n",
            "Epoch [12/20], Loss: 97.7034\n",
            "Epoch [13/20], Loss: 97.4592\n",
            "Epoch [14/20], Loss: 97.2367\n",
            "Epoch [15/20], Loss: 97.0050\n",
            "Epoch [16/20], Loss: 96.8492\n",
            "Epoch [17/20], Loss: 96.7111\n",
            "Epoch [18/20], Loss: 96.5416\n",
            "Epoch [19/20], Loss: 96.3515\n",
            "Epoch [20/20], Loss: 96.1749\n"
          ]
        }
      ]
    },
    {
      "cell_type": "code",
      "source": [
        "# Function to visualize some results\n",
        "def visualize_reconstruction(model, data_loader):\n",
        "    model.eval()\n",
        "    with torch.no_grad():\n",
        "        dataiter = iter(data_loader)\n",
        "        images, _ = next(dataiter)  # Use next() to get the first batch of images and labels\n",
        "        images = images.view(-1, 1, 28, 28)\n",
        "        outputs, _, _ = model(images)\n",
        "\n",
        "        # Show original and reconstructed images\n",
        "        plt.figure(figsize=(12, 4))\n",
        "        for i in range(6):\n",
        "            ax = plt.subplot(2, 6, i + 1)\n",
        "            plt.imshow(images[i].view(28, 28).cpu().numpy(), cmap='gray')\n",
        "            plt.title(\"Original\")\n",
        "            ax.get_xaxis().set_visible(False)\n",
        "            ax.get_yaxis().set_visible(False)\n",
        "\n",
        "        for i in range(6):\n",
        "            ax = plt.subplot(2, 6, i + 7)\n",
        "            plt.imshow(outputs[i].view(28, 28).cpu().numpy(), cmap='gray')\n",
        "            plt.title(\"Reconstructed\")\n",
        "            ax.get_xaxis().set_visible(False)\n",
        "            ax.get_yaxis().set_visible(False)\n",
        "\n",
        "        plt.subplots_adjust(hspace=0.5)  # Adjust the height space between rows\n",
        "        plt.show()\n",
        "\n",
        "# Visualize some reconstructed images\n",
        "visualize_reconstruction(model, testloader)"
      ],
      "metadata": {
        "colab": {
          "base_uri": "https://localhost:8080/",
          "height": 367
        },
        "id": "ituDdYygvmsi",
        "outputId": "e441e1d3-5a70-4df8-9036-10903f95d086"
      },
      "execution_count": 22,
      "outputs": [
        {
          "output_type": "display_data",
          "data": {
            "text/plain": [
              "<Figure size 1200x400 with 12 Axes>"
            ],
            "image/png": "[encoded data removed]"
          },
          "metadata": {}
        }
      ]
    },
    {
      "cell_type": "code",
      "source": [],
      "metadata": {
        "id": "F_gL8MOkvnfa"
      },
      "execution_count": null,
      "outputs": []
    }
  ]
}